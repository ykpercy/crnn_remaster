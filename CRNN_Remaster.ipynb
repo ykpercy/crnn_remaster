{
 "cells": [
  {
   "cell_type": "code",
   "execution_count": 1,
   "id": "68cef2b3-f6eb-41c2-82eb-3eff6a56ccfe",
   "metadata": {},
   "outputs": [],
   "source": [
    "import torch\n",
    "import numpy as np\n",
    "import random\n",
    "import os\n",
    "\n",
    "from torch import nn"
   ]
  },
  {
   "cell_type": "code",
   "execution_count": 2,
   "id": "f6969970-2b3d-48ab-a9f9-38f0ef5aa596",
   "metadata": {},
   "outputs": [],
   "source": [
    "# You may replace the workspace directory if you want.\n",
    "workspace_dir = '.'"
   ]
  },
  {
   "cell_type": "code",
   "execution_count": 3,
   "id": "57c51e96-3ddf-44b7-a8f1-5748959af761",
   "metadata": {},
   "outputs": [],
   "source": [
    "def same_seeds(seed):\n",
    "    # Python built-in random module\n",
    "    random.seed(seed)\n",
    "    # Numpy\n",
    "    np.random.seed(seed)\n",
    "    # Torch\n",
    "    torch.manual_seed(seed)\n",
    "    if torch.cuda.is_available():\n",
    "        torch.cuda.manual_seed(seed)\n",
    "        torch.cuda.manual_seed_all(seed)\n",
    "    torch.backends.cudnn.benchmark = False\n",
    "    torch.backends.cudnn.deterministic = True\n",
    "\n",
    "same_seeds(2022)"
   ]
  },
  {
   "cell_type": "code",
   "execution_count": 6,
   "id": "0916876e-019b-4e93-8a74-cd668ed973b9",
   "metadata": {},
   "outputs": [],
   "source": [
    "from torch.utils.data import Dataset, DataLoader\n",
    "\n",
    "class LMDBDataset(Dataset):\n",
    "    def __init__(self, fnames, transform):\n",
    "        self.transform = transform\n",
    "        self.fnames = fnames\n",
    "        self.num_samples = len(self.fnames)\n",
    "\n",
    "    def __getitem__(self,idx):\n",
    "        fname = self.fnames[idx]\n",
    "        # 1. Load the image\n",
    "        img = torchvision.io.read_image(fname)\n",
    "        # 2. Resize and normalize the images using torchvision.\n",
    "        img = self.transform(img)\n",
    "        return img\n",
    "\n",
    "    def __len__(self):\n",
    "        return self.num_samples\n",
    "    \n",
    "def get_dataset(root):\n",
    "    fnames = glob.glob(os.path.join(root, '*'))\n",
    "    # 1. Resize the image to (64, 64)\n",
    "    # 2. Linearly map [0, 1] to [-1, 1]\n",
    "    compose = [\n",
    "        transforms.ToPILImage(),\n",
    "        transforms.Resize((64, 64)),\n",
    "        transforms.ToTensor(),\n",
    "        transforms.Normalize(mean=(0.5, 0.5, 0.5), std=(0.5, 0.5, 0.5)),\n",
    "    ]\n",
    "    transform = transforms.Compose(compose)\n",
    "    dataset = LMDBDataset(fnames, transform)\n",
    "    return dataset\n"
   ]
  },
  {
   "cell_type": "code",
   "execution_count": null,
   "id": "55ce6146-e32d-4eb8-b43e-b8354fdeb359",
   "metadata": {},
   "outputs": [],
   "source": [
    "dataset = get_dataset(os.path.join(workspace_dir, 'faces'))"
   ]
  },
  {
   "cell_type": "code",
   "execution_count": 4,
   "id": "2ff26b99-0681-4c28-8c3a-f70aae09b271",
   "metadata": {
    "tags": []
   },
   "outputs": [
    {
     "name": "stdout",
     "output_type": "stream",
     "text": [
      "Using cuda device\n"
     ]
    }
   ],
   "source": [
    "device = \"cuda\" if torch.cuda.is_available() else \"cpu\"\n",
    "print(f\"Using {device} device\")\n",
    "\n",
    "\n",
    "def weights_init(m):\n",
    "    classname = m.__class__.__name__\n",
    "    if classname.find('Conv') != -1:\n",
    "        m.weight.data.normal_(0.0, 0.02)\n",
    "    elif classname.find('BatchNorm') != -1:\n",
    "        m.weight.data.normal_(1.0, 0.02)\n",
    "        m.bias.data.fill_(0)\n",
    "\n",
    "# Define model\n",
    "class CRNN(nn.Module):\n",
    "    \"\"\"\n",
    "    Input shape: (N, 1, h, w)  # W * 32 gray-scale image\n",
    "    Output shape: (N, )\n",
    "    \"\"\"\n",
    "    def __init__(self, nclass):\n",
    "        super(CRNN, self).__init__()\n",
    "        # self.flatten = nn.Flatten()\n",
    "        self.cnn_layer = nn.Sequential(\n",
    "            nn.Conv2d(1, 64, 3, stride=1, padding=1),\n",
    "            nn.ReLU(),\n",
    "            nn.MaxPool2d((2, 2), stride=2),\n",
    "            \n",
    "            nn.Conv2d(64, 128, 3, stride=1, padding=1),\n",
    "            nn.ReLU(),\n",
    "            nn.MaxPool2d((2, 2), stride=2),\n",
    "            \n",
    "            nn.Conv2d(128, 256, 3, stride=1, padding=1),\n",
    "            \n",
    "            nn.Conv2d(256, 256, 3, stride=1, padding=1),\n",
    "            nn.ReLU(),\n",
    "            nn.MaxPool2d((1, 2), stride=2),\n",
    "            \n",
    "            nn.Conv2d(256, 512, 3, stride=1, padding=1),\n",
    "            nn.BatchNorm2d(512),\n",
    "            nn.ReLU(),\n",
    "            \n",
    "            nn.Conv2d(512, 512, 3, stride=1, padding=1),\n",
    "            nn.BatchNorm2d(512),\n",
    "            nn.ReLU(),\n",
    "            nn.MaxPool2d((1, 2), stride=2),\n",
    "            \n",
    "            nn.Conv2d(512, 512, 2, stride=1, padding=0)\n",
    "        )\n",
    "        \n",
    "        # Input shape: (L, N, Input_size)\n",
    "        # Output shape:(L, N, D*proj_size)\n",
    "        self.BiLSTM = nn.Sequential(\n",
    "            nn.LSTM(512, 256, bidirectional=True),\n",
    "            nn.LSTM(256, 256, bidirectional=True, proj_size=nclass)\n",
    "        )\n",
    "        \n",
    "        self.apply(weights_init)\n",
    "\n",
    "    def forward(self, x):\n",
    "        # conv features\n",
    "        y_cnn = self.cnn_layer(x)\n",
    "        b, c, h, w = y_cnn.size()\n",
    "        assert h == 1, \"the height of conv must be 1\"\n",
    "        y_cnn = y_cnn.squeeze(2)\n",
    "        y_cnn = y_cnn.permute(2, 0, 1)  # [w, b, c]\n",
    "        \n",
    "        # rnn features\n",
    "        logits = self.BiLSTM(y_cnn)  # [L, N, Input_size]\n",
    "        return logits\n",
    "\n",
    "# model = CRNN(nc).to(device)\n",
    "# print(model)"
   ]
  },
  {
   "cell_type": "code",
   "execution_count": 5,
   "id": "470ac386-2e6d-4e6e-8358-8568186dc2bc",
   "metadata": {},
   "outputs": [
    {
     "ename": "NameError",
     "evalue": "name 'DataLoader' is not defined",
     "output_type": "error",
     "traceback": [
      "\u001b[0;31m---------------------------------------------------------------------------\u001b[0m",
      "\u001b[0;31mNameError\u001b[0m                                 Traceback (most recent call last)",
      "\u001b[0;32m/tmp/ipykernel_101/1626431585.py\u001b[0m in \u001b[0;36m<module>\u001b[0;34m\u001b[0m\n\u001b[1;32m     22\u001b[0m \u001b[0;34m\u001b[0m\u001b[0m\n\u001b[1;32m     23\u001b[0m \u001b[0;31m# DataLoader\u001b[0m\u001b[0;34m\u001b[0m\u001b[0;34m\u001b[0m\u001b[0;34m\u001b[0m\u001b[0m\n\u001b[0;32m---> 24\u001b[0;31m dataloader = DataLoader(dataset, batch_size=batch_size, \n\u001b[0m\u001b[1;32m     25\u001b[0m                         shuffle=True, num_workers=4)\n",
      "\u001b[0;31mNameError\u001b[0m: name 'DataLoader' is not defined"
     ]
    }
   ],
   "source": [
    "nc = 36\n",
    "\n",
    "# Training hyperparameters\n",
    "batch_size = 64\n",
    "lr = 2e-4\n",
    "n_epoch = 100\n",
    "\n",
    "log_dir = os.path.join(workspace_dir, 'logs', 'test', 'base')\n",
    "ckpt_dir = os.path.join(workspace_dir, 'checkpoints', 'test', 'base')\n",
    "os.makedirs(log_dir, exist_ok=True)\n",
    "os.makedirs(ckpt_dir, exist_ok=True)\n",
    "\n",
    "# Model\n",
    "crnn = CRNN(nc).to(device)\n",
    "crnn.train()\n",
    "\n",
    "# Loss\n",
    "ctc_loss = nn.CTCLoss()\n",
    "\n",
    "# Optimizer\n",
    "opt = torch.optim.Adam(crnn.parameters(), lr=lr, betas=(0.5, 0.999))\n",
    "\n",
    "# DataLoader\n",
    "dataloader = DataLoader(dataset, batch_size=batch_size, \n",
    "                        shuffle=True, num_workers=4)"
   ]
  },
  {
   "cell_type": "code",
   "execution_count": null,
   "id": "ca18567e-58be-4093-8115-8e30a76c004e",
   "metadata": {},
   "outputs": [],
   "source": []
  }
 ],
 "metadata": {
  "kernelspec": {
   "display_name": "Python 3 (ipykernel)",
   "language": "python",
   "name": "python3"
  },
  "language_info": {
   "codemirror_mode": {
    "name": "ipython",
    "version": 3
   },
   "file_extension": ".py",
   "mimetype": "text/x-python",
   "name": "python",
   "nbconvert_exporter": "python",
   "pygments_lexer": "ipython3",
   "version": "3.7.5"
  }
 },
 "nbformat": 4,
 "nbformat_minor": 5
}
